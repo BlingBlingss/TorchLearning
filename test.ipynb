{
 "cells": [
  {
   "cell_type": "code",
   "execution_count": 1,
   "metadata": {
    "collapsed": true
   },
   "outputs": [
    {
     "name": "stdout",
     "output_type": "stream",
     "text": [
      "h,e,l,l,o\nh\n"
     ]
    }
   ],
   "source": [
    "# str.join(sequence)返回通过指定字符连接序列中元素后生成的新字符串。\n",
    "print(\",\".join(\"hello\"))\n",
    "print(\",\".join(\"h\"))"
   ]
  },
  {
   "cell_type": "code",
   "execution_count": 19,
   "metadata": {},
   "outputs": [
    {
     "name": "stdout",
     "output_type": "stream",
     "text": [
      "hello\nlog\\hparams\n"
     ]
    }
   ],
   "source": [
    "import os\n",
    "path = \"log\"\n",
    "print(\"hello\")\n",
    "if not os.path.exists(path):\n",
    "    # 使用noterbook时直接创建目录log位于C：/user/wb-sjy660682/文档/log，可能是连的服务器？\n",
    "    # 使用py文件时直接创建目录log则位于该项目文件目录下\n",
    "    os.makedirs(path)\n",
    "# os.path.join连接两个或更多的路径名组件\n",
    "print(os.path.join(path, \"hparams\"))"
   ]
  },
  {
   "cell_type": "code",
   "execution_count": 20,
   "metadata": {},
   "outputs": [
    {
     "name": "stdout",
     "output_type": "stream",
     "text": [
      "{\"\\u540d\\u5b57\": \"Su\", \"age\": 24}\n"
     ]
    }
   ],
   "source": [
    "import json\n",
    "dic = {'名字':\"Su\", \"age\": 24}\n",
    "#  json.dumps把python对象(诸如dict/list/tuple/string等数据结构)转换为字符串。只不过这个字符串比较特别，其特别之处在于它的语法格式同json保持一致。如将字典中的单引号均置为双引号\n",
    "print(json.dumps(dic))"
   ]
  }
 ],
 "metadata": {
  "kernelspec": {
   "display_name": "Python 2",
   "language": "python",
   "name": "python2"
  },
  "language_info": {
   "codemirror_mode": {
    "name": "ipython",
    "version": 2
   },
   "file_extension": ".py",
   "mimetype": "text/x-python",
   "name": "python",
   "nbconvert_exporter": "python",
   "pygments_lexer": "ipython2",
   "version": "2.7.6"
  }
 },
 "nbformat": 4,
 "nbformat_minor": 0
}
