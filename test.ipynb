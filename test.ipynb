{
 "cells": [
  {
   "cell_type": "code",
   "execution_count": 27,
   "metadata": {
    "collapsed": true
   },
   "outputs": [
    {
     "name": "stdout",
     "output_type": "stream",
     "text": [
      "h,e,l,l,o\nh\n['D:', 'data', 'train.csv']\nD:\ndata\ntrain.csv\n"
     ]
    }
   ],
   "source": [
    "# str.join(sequence)返回通过指定字符连接序列中元素后生成的新字符串。\n",
    "print(\",\".join(\"hello\"))\n",
    "print(\",\".join(\"h\"))\n",
    "path = \"D:/data/train.csv\"\n",
    "print(path.split('/'))\n",
    "for i in path.split('/'):\n",
    "    print(i)"
   ]
  },
  {
   "cell_type": "code",
   "execution_count": 9,
   "metadata": {},
   "outputs": [
    {
     "name": "stdout",
     "output_type": "stream",
     "text": [
      "5\nb'\\xe6\\x88\\x91\\xe6\\x98\\xaf\\xe8\\x8b\\x8f\\xe5\\xbb\\xba\\xe4\\xb8\\x9a'\n"
     ]
    }
   ],
   "source": [
    "str1 = \"我是苏建业\"\n",
    "print(len(list(str1)))\n",
    "print(str1.encode('utf-8'))"
   ]
  },
  {
   "cell_type": "code",
   "execution_count": 1,
   "metadata": {},
   "outputs": [
    {
     "name": "stdout",
     "output_type": "stream",
     "text": [
      "hello\nlog\\hparams\n"
     ]
    }
   ],
   "source": [
    "import os\n",
    "path = \"log\"\n",
    "print(\"hello\")\n",
    "if not os.path.exists(path):\n",
    "    # 使用noterbook时直接创建目录log位于C：/user/wb-sjy660682/文档/log，可能是连的服务器？\n",
    "    # 使用py文件时直接创建目录log则位于该项目文件目录下\n",
    "    os.makedirs(path)\n",
    "# os.path.join连接两个或更多的路径名组件\n",
    "print(os.path.join(path, \"hparams\"))"
   ]
  },
  {
   "cell_type": "code",
   "execution_count": 5,
   "metadata": {},
   "outputs": [
    {
     "name": "stdout",
     "output_type": "stream",
     "text": [
      "{\"\\u540d\\u5b57\": \"Su\", \"age\": 24}\n"
     ]
    }
   ],
   "source": [
    "import json\n",
    "dic = {'名字':\"Su\", \"age\": 24}\n",
    "#  json.dumps把python对象(诸如dict/list/tuple/string等数据结构)转换为字符串。只不过这个字符串比较特别，其特别之处在于它的语法格式同json保持一致。如将字典中的单引号均置为双引号\n",
    "print(json.dumps(dic))"
   ]
  },
  {
   "cell_type": "code",
   "execution_count": 6,
   "metadata": {},
   "outputs": [
    {
     "name": "stdout",
     "output_type": "stream",
     "text": [
      "['0', '1', '2', '3', '4']\n"
     ]
    }
   ],
   "source": [
    "str = [str(i) for i in range(5)]\n",
    "print(str)"
   ]
  },
  {
   "cell_type": "code",
   "execution_count": 2,
   "metadata": {},
   "outputs": [
    {
     "name": "stdout",
     "output_type": "stream",
     "text": [
      "Tensor(\"Placeholder:0\", shape=(), dtype=string)\n<enumerate object at 0x000001BE26E02728>\n[(0, 'su'), (1, 'jian'), (2, 3)]\n0 su\n1 jian\n2 3\n{0: 'su', 1: 'jian', 2: 3}\ndict_keys([0, 1, 2])\n"
     ]
    }
   ],
   "source": [
    "import tensorflow as tf\n",
    "a = tf.placeholder(tf.string, shape = [])\n",
    "print(a)\n",
    "# enumerate() 函数用于将一个可遍历的数据对象(如列表、元组或字符串)组合为一个索引序列，同时列出数据和数据下标，一般用在 for 循环当中。\n",
    "# 返回 enumerate(枚举) 对象。\n",
    "l = [\"su\", \"jian\", 3]\n",
    "print(enumerate(l))\n",
    "print(list(enumerate(l)))\n",
    "for i, element in enumerate(l):\n",
    "    print(i, element)\n",
    "# 列表解析为字典\n",
    "dic = {i: element for i, element in enumerate(l)}\n",
    "print(dic)\n",
    "print(dic.keys())"
   ]
  },
  {
   "cell_type": "code",
   "execution_count": 5,
   "metadata": {},
   "outputs": [
    {
     "name": "stdout",
     "output_type": "stream",
     "text": [
      "1\n2\n3\n4\n"
     ]
    }
   ],
   "source": [
    "# python next() 函数next() 返回迭代器的下一个项目。\n",
    "it = iter([1, 2, 3, 4])\n",
    "while True:\n",
    "    try:\n",
    "        # 获得下一个值\n",
    "        x = next(it)\n",
    "        print(x)\n",
    "    except StopIteration:\n",
    "        # 遇到StopIteration就退出循环\n",
    "        break\n",
    "    "
   ]
  },
  {
   "cell_type": "code",
   "execution_count": 9,
   "metadata": {},
   "outputs": [
    {
     "name": "stdout",
     "output_type": "stream",
     "text": [
      "4\n********************\nres: None\n4\n"
     ]
    }
   ],
   "source": [
    "# https://blog.csdn.net/mieleizhi0522/article/details/82142856\n",
    "# pythoon yield\n",
    "# 带yield的函数是一个生成器，而不是一个函数了，这个生成器有一个函数就是next函数\n",
    "def foo():\n",
    "    while True:\n",
    "        res = yield 4\n",
    "        print(\"res:\",res)\n",
    "g = foo()\n",
    "print(next(g))\n",
    "print(\"*\"*20)\n",
    "print(next(g))"
   ]
  },
  {
   "cell_type": "code",
   "execution_count": 11,
   "metadata": {},
   "outputs": [
    {
     "name": "stdout",
     "output_type": "stream",
     "text": [
      "4\n********************\nres: 7\n4\n"
     ]
    }
   ],
   "source": [
    "def foo():\n",
    "    while True:\n",
    "        res = yield 4\n",
    "        print(\"res:\",res)\n",
    "g = foo()\n",
    "print(next(g))\n",
    "print(\"*\"*20)\n",
    "print(g.send(7))\n"
   ]
  }
 ],
 "metadata": {
  "kernelspec": {
   "display_name": "Python 2",
   "language": "python",
   "name": "python2"
  },
  "language_info": {
   "codemirror_mode": {
    "name": "ipython",
    "version": 2
   },
   "file_extension": ".py",
   "mimetype": "text/x-python",
   "name": "python",
   "nbconvert_exporter": "python",
   "pygments_lexer": "ipython2",
   "version": "2.7.6"
  }
 },
 "nbformat": 4,
 "nbformat_minor": 0
}
